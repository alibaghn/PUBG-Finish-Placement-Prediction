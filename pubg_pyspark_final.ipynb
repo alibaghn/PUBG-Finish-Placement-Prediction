{
 "cells": [
  {
   "cell_type": "markdown",
   "metadata": {},
   "source": [
    "### Import libraries"
   ]
  },
  {
   "cell_type": "code",
   "execution_count": 1,
   "metadata": {},
   "outputs": [],
   "source": [
    "import pyspark\n",
    "from pyspark.sql import SparkSession\n",
    "from pyspark.ml.feature import StringIndexer,OneHotEncoderEstimator,VectorAssembler\n",
    "from pyspark.ml import Pipeline\n",
    "from pyspark.ml.regression import RandomForestRegressor\n",
    "from pyspark.ml.evaluation import RegressionEvaluator\n",
    "from pyspark.ml.tuning import ParamGridBuilder,CrossValidator\n",
    "from pyspark.ml.evaluation import RegressionEvaluator"
   ]
  },
  {
   "cell_type": "markdown",
   "metadata": {},
   "source": [
    "### Data Information"
   ]
  },
  {
   "cell_type": "code",
   "execution_count": 2,
   "metadata": {},
   "outputs": [],
   "source": [
    "spark=SparkSession.builder.appName('pubg').getOrCreate()\n",
    "df=spark.read.csv('pubg.csv',header=True,inferSchema=True,samplingRatio=0.01)"
   ]
  },
  {
   "cell_type": "code",
   "execution_count": 3,
   "metadata": {
    "scrolled": true
   },
   "outputs": [
    {
     "name": "stdout",
     "output_type": "stream",
     "text": [
      "+--------------+--------------+--------------+-------+------+-----------+-----+-------------+-----+---------+----------+-----+-----------+-----------+-------------+---------+--------+---------+----------+-------+------------+---------+------------+---------+---------------+------------+---------------+---------+------------+\n",
      "|            Id|       groupId|       matchId|assists|boosts|damageDealt|DBNOs|headshotKills|heals|killPlace|killPoints|kills|killStreaks|longestKill|matchDuration|matchType|maxPlace|numGroups|rankPoints|revives|rideDistance|roadKills|swimDistance|teamKills|vehicleDestroys|walkDistance|weaponsAcquired|winPoints|winPlacePerc|\n",
      "+--------------+--------------+--------------+-------+------+-----------+-----+-------------+-----+---------+----------+-----+-----------+-----------+-------------+---------+--------+---------+----------+-------+------------+---------+------------+---------+---------------+------------+---------------+---------+------------+\n",
      "|7f96b2f878858a|4d4b580de459be|a10357fd1a4a91|      0|     0|        0.0|    0|            0|    0|       60|      1241|    0|          0|        0.0|         1306|squad-fpp|      28|       26|        -1|      0|         0.0|        0|         0.0|        0|              0|       244.8|              1|     1466|      0.4444|\n",
      "|eef90569b9d03c|684d5656442f9e|aeb375fc57110c|      0|     0|      91.47|    0|            0|    0|       57|         0|    0|          0|        0.0|         1777|squad-fpp|      26|       25|      1484|      0|      0.0045|        0|       11.04|        0|              0|      1434.0|              5|        0|        0.64|\n",
      "+--------------+--------------+--------------+-------+------+-----------+-----+-------------+-----+---------+----------+-----+-----------+-----------+-------------+---------+--------+---------+----------+-------+------------+---------+------------+---------+---------------+------------+---------------+---------+------------+\n",
      "only showing top 2 rows\n",
      "\n"
     ]
    }
   ],
   "source": [
    "df.show(2)"
   ]
  },
  {
   "cell_type": "code",
   "execution_count": 4,
   "metadata": {},
   "outputs": [
    {
     "data": {
      "text/plain": [
       "<bound method DataFrame.printSchema of DataFrame[Id: string, groupId: string, matchId: string, assists: int, boosts: int, damageDealt: double, DBNOs: int, headshotKills: int, heals: int, killPlace: int, killPoints: int, kills: int, killStreaks: int, longestKill: double, matchDuration: int, matchType: string, maxPlace: int, numGroups: int, rankPoints: int, revives: int, rideDistance: double, roadKills: int, swimDistance: double, teamKills: int, vehicleDestroys: int, walkDistance: double, weaponsAcquired: int, winPoints: int, winPlacePerc: double]>"
      ]
     },
     "execution_count": 4,
     "metadata": {},
     "output_type": "execute_result"
    }
   ],
   "source": [
    "df.printSchema"
   ]
  },
  {
   "cell_type": "code",
   "execution_count": 5,
   "metadata": {},
   "outputs": [
    {
     "name": "stdout",
     "output_type": "stream",
     "text": [
      "+-------+--------------+--------------+--------------+-------------------+------------------+------------------+------------------+-------------------+------------------+------------------+------------------+------------------+------------------+-----------------+------------------+---------+------------------+------------------+-----------------+-------------------+------------------+--------------------+-----------------+-------------------+-------------------+------------------+------------------+-----------------+-------------------+\n",
      "|summary|            Id|       groupId|       matchId|            assists|            boosts|       damageDealt|             DBNOs|      headshotKills|             heals|         killPlace|        killPoints|             kills|       killStreaks|      longestKill|     matchDuration|matchType|          maxPlace|         numGroups|       rankPoints|            revives|      rideDistance|           roadKills|     swimDistance|          teamKills|    vehicleDestroys|      walkDistance|   weaponsAcquired|        winPoints|       winPlacePerc|\n",
      "+-------+--------------+--------------+--------------+-------------------+------------------+------------------+------------------+-------------------+------------------+------------------+------------------+------------------+------------------+-----------------+------------------+---------+------------------+------------------+-----------------+-------------------+------------------+--------------------+-----------------+-------------------+-------------------+------------------+------------------+-----------------+-------------------+\n",
      "|  count|       4446966|       4446966|       4446966|            4446966|           4446966|           4446966|           4446966|            4446966|           4446966|           4446966|           4446966|           4446966|           4446966|          4446966|           4446966|  4446966|           4446966|           4446966|          4446966|            4446966|           4446966|             4446966|          4446966|            4446966|            4446966|           4446966|           4446966|          4446966|            4446965|\n",
      "|   mean|      Infinity|      Infinity|      Infinity|0.23381492010507837|1.1069077209045448|130.71713789840132|0.6578755043326169|0.22681958890623405| 1.370147196987789| 47.59935020865912|505.00604209701623|0.9247833241810259| 0.543955137052993|22.99759484533923|1579.5064396714524|     null|44.504670150390176| 43.00759259234273|892.0104565674665|0.16465900571310868| 606.1156691540916|0.003496091492491...|4.509322451307245| 0.0238684082585745|0.00791820760491535|1154.2178590962735|3.6604876223474614|606.4601305699211|0.47282155272193915|\n",
      "| stddev|           NaN|           NaN|           NaN| 0.5885730871999953|1.7157936773815516|170.78062066696396|1.1457427249005612| 0.6021552757837271|2.6799822305289855|27.462937018409697| 627.5048962794015| 1.558444653227703|0.7109720924089302|50.97261881617954|258.73985646079535|     null|23.828105454921836|23.289494662858477|736.6477793343946|0.47216709823973146|1498.3435130715152| 0.07337296668394568|30.50219918203477|0.16739350254204813|0.09261156645325197|1183.4970417898285| 2.456543622958438| 739.700443956837| 0.3074049817000346|\n",
      "|    min|00000160737ebf|00000c08b5be36|0000a43bce5eec|                  0|                 0|               0.0|                 0|                  0|                 0|                 1|                 0|                 0|                 0|              0.0|                 9| crashfpp|                 1|                 1|               -1|                  0|               0.0|                   0|              0.0|                  0|                  0|               0.0|                 0|                0|                0.0|\n",
      "|    max|fffffddae4e502|fffff98178ef52|fffe92232706aa|                 22|                33|            6616.0|                53|                 64|                80|               101|              2170|                72|                20|           1094.0|              2237|squad-fpp|               100|               100|             5910|                 39|           40710.0|                  18|           3823.0|                 12|                  5|           25780.0|               236|             2013|                1.0|\n",
      "+-------+--------------+--------------+--------------+-------------------+------------------+------------------+------------------+-------------------+------------------+------------------+------------------+------------------+------------------+-----------------+------------------+---------+------------------+------------------+-----------------+-------------------+------------------+--------------------+-----------------+-------------------+-------------------+------------------+------------------+-----------------+-------------------+\n",
      "\n"
     ]
    }
   ],
   "source": [
    "df.describe().show()"
   ]
  },
  {
   "cell_type": "markdown",
   "metadata": {},
   "source": [
    "### Handle missing values"
   ]
  },
  {
   "cell_type": "code",
   "execution_count": 6,
   "metadata": {},
   "outputs": [],
   "source": [
    "df=df.dropna()"
   ]
  },
  {
   "cell_type": "markdown",
   "metadata": {},
   "source": [
    "### Handle categorial values"
   ]
  },
  {
   "cell_type": "code",
   "execution_count": 7,
   "metadata": {},
   "outputs": [],
   "source": [
    "strindexer=StringIndexer(inputCol='matchType',outputCol='matchType_index')\n",
    "ohencoder=OneHotEncoderEstimator(inputCols=['matchType_index'],outputCols=['matchType_onehot'])"
   ]
  },
  {
   "cell_type": "markdown",
   "metadata": {},
   "source": [
    "### Transform features to vector"
   ]
  },
  {
   "cell_type": "code",
   "execution_count": 8,
   "metadata": {},
   "outputs": [],
   "source": [
    "assembler=VectorAssembler(inputCols=['assists', 'boosts', 'damageDealt', 'DBNOs', 'headshotKills', 'heals', 'killPlace', 'killPoints', 'kills', 'killStreaks', 'longestKill', 'matchDuration', 'matchType_onehot', 'maxPlace', 'numGroups', 'rankPoints', 'revives', 'rideDistance', 'roadKills', 'swimDistance', 'teamKills', 'vehicleDestroys', 'walkDistance', 'weaponsAcquired', 'winPoints'],outputCol='features')"
   ]
  },
  {
   "cell_type": "markdown",
   "metadata": {},
   "source": [
    "### Split data into train and test sets"
   ]
  },
  {
   "cell_type": "code",
   "execution_count": 9,
   "metadata": {},
   "outputs": [],
   "source": [
    "train,test=df.randomSplit([0.8,0.2]) "
   ]
  },
  {
   "cell_type": "markdown",
   "metadata": {},
   "source": [
    "### Build the model"
   ]
  },
  {
   "cell_type": "code",
   "execution_count": 10,
   "metadata": {},
   "outputs": [],
   "source": [
    "rfr=RandomForestRegressor(featuresCol='features',labelCol='winPlacePerc')"
   ]
  },
  {
   "cell_type": "markdown",
   "metadata": {},
   "source": [
    "### Hyperparameter tuning and cross validation"
   ]
  },
  {
   "cell_type": "code",
   "execution_count": 11,
   "metadata": {},
   "outputs": [],
   "source": [
    "pipeline=Pipeline(stages=[strindexer,ohencoder,assembler,rfr])\n",
    "evaluator=RegressionEvaluator(predictionCol='prediction',labelCol='winPlacePerc',metricName='mae')\n",
    "#limited hyperparameter tunning due to memory limitation\n",
    "paramgrid=ParamGridBuilder().addGrid(rfr.numTrees,[10,40,70,100]).build()\n",
    "crossval=CrossValidator(estimator=pipeline,estimatorParamMaps=paramgrid,evaluator=evaluator,numFolds=3)\n",
    "crossval=crossval.fit(train)"
   ]
  },
  {
   "cell_type": "code",
   "execution_count": 12,
   "metadata": {},
   "outputs": [
    {
     "data": {
      "text/plain": [
       "RandomForestRegressionModel (uid=RandomForestRegressor_ab354fd1021d) with 40 trees"
      ]
     },
     "execution_count": 12,
     "metadata": {},
     "output_type": "execute_result"
    }
   ],
   "source": [
    "#optimized hyperparameter values\n",
    "crossval.bestModel.stages[3]"
   ]
  },
  {
   "cell_type": "code",
   "execution_count": 22,
   "metadata": {},
   "outputs": [
    {
     "data": {
      "text/plain": [
       "0.08879741086208787"
      ]
     },
     "execution_count": 22,
     "metadata": {},
     "output_type": "execute_result"
    }
   ],
   "source": [
    "#Avg MAE for 2nd step (40 trees)\n",
    "crossval.avgMetrics[1]"
   ]
  },
  {
   "cell_type": "markdown",
   "metadata": {},
   "source": [
    "### Make predictions and evaluate"
   ]
  },
  {
   "cell_type": "code",
   "execution_count": 13,
   "metadata": {},
   "outputs": [
    {
     "name": "stdout",
     "output_type": "stream",
     "text": [
      "+------------+-------------------+\n",
      "|winPlacePerc|         prediction|\n",
      "+------------+-------------------+\n",
      "|      0.4375|0.33078417334832455|\n",
      "|      0.2963| 0.3695380226805693|\n",
      "|      0.9615| 0.8573348164995522|\n",
      "|       0.383|0.34722443232188616|\n",
      "|      0.3214|  0.282898933458408|\n",
      "|      0.1379| 0.2531806721402804|\n",
      "|      0.3704| 0.4412877308317519|\n",
      "|      0.0204|0.06731109022445624|\n",
      "|      0.9231| 0.8132749884356283|\n",
      "|      0.3077| 0.2395780748402175|\n",
      "+------------+-------------------+\n",
      "only showing top 10 rows\n",
      "\n"
     ]
    }
   ],
   "source": [
    "preds=crossval.transform(test)\n",
    "preds.select('winPlacePerc','prediction').show(10)"
   ]
  },
  {
   "cell_type": "code",
   "execution_count": 24,
   "metadata": {},
   "outputs": [],
   "source": [
    "mae=evaluator.evaluate(preds)"
   ]
  },
  {
   "cell_type": "code",
   "execution_count": 26,
   "metadata": {},
   "outputs": [
    {
     "data": {
      "text/plain": [
       "0.08873352769007113"
      ]
     },
     "execution_count": 26,
     "metadata": {},
     "output_type": "execute_result"
    }
   ],
   "source": [
    "#MAE on the test set\n",
    "mae"
   ]
  },
  {
   "cell_type": "code",
   "execution_count": null,
   "metadata": {},
   "outputs": [],
   "source": []
  }
 ],
 "metadata": {
  "kernelspec": {
   "display_name": "Python 3",
   "language": "python",
   "name": "python3"
  },
  "language_info": {
   "codemirror_mode": {
    "name": "ipython",
    "version": 3
   },
   "file_extension": ".py",
   "mimetype": "text/x-python",
   "name": "python",
   "nbconvert_exporter": "python",
   "pygments_lexer": "ipython3",
   "version": "3.7.3"
  }
 },
 "nbformat": 4,
 "nbformat_minor": 2
}
